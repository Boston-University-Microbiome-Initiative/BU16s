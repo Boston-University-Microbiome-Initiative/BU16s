{
 "cells": [
  {
   "cell_type": "markdown",
   "metadata": {},
   "source": [
    "# Make QIIME2 manifest"
   ]
  },
  {
   "cell_type": "code",
   "execution_count": 39,
   "metadata": {},
   "outputs": [],
   "source": [
    "from glob import glob\n",
    "import os\n",
    "import pandas as pd"
   ]
  },
  {
   "cell_type": "code",
   "execution_count": 86,
   "metadata": {},
   "outputs": [
    {
     "data": {
      "text/html": [
       "<div>\n",
       "<style scoped>\n",
       "    .dataframe tbody tr th:only-of-type {\n",
       "        vertical-align: middle;\n",
       "    }\n",
       "\n",
       "    .dataframe tbody tr th {\n",
       "        vertical-align: top;\n",
       "    }\n",
       "\n",
       "    .dataframe thead th {\n",
       "        text-align: right;\n",
       "    }\n",
       "</style>\n",
       "<table border=\"1\" class=\"dataframe\">\n",
       "  <thead>\n",
       "    <tr style=\"text-align: right;\">\n",
       "      <th></th>\n",
       "      <th>sample-id</th>\n",
       "      <th>forward-absolute-filepath</th>\n",
       "      <th>reverse-absolute-filepath</th>\n",
       "    </tr>\n",
       "  </thead>\n",
       "  <tbody>\n",
       "    <tr>\n",
       "      <th>0</th>\n",
       "      <td>s1-phred64</td>\n",
       "      <td>C:/Users/Michael/Documents/Boston_University/B...</td>\n",
       "      <td>C:/Users/Michael/Documents/Boston_University/B...</td>\n",
       "    </tr>\n",
       "    <tr>\n",
       "      <th>1</th>\n",
       "      <td>s2-phred64</td>\n",
       "      <td>C:/Users/Michael/Documents/Boston_University/B...</td>\n",
       "      <td>C:/Users/Michael/Documents/Boston_University/B...</td>\n",
       "    </tr>\n",
       "  </tbody>\n",
       "</table>\n",
       "</div>"
      ],
      "text/plain": [
       "    sample-id                          forward-absolute-filepath  \\\n",
       "0  s1-phred64  C:/Users/Michael/Documents/Boston_University/B...   \n",
       "1  s2-phred64  C:/Users/Michael/Documents/Boston_University/B...   \n",
       "\n",
       "                           reverse-absolute-filepath  \n",
       "0  C:/Users/Michael/Documents/Boston_University/B...  \n",
       "1  C:/Users/Michael/Documents/Boston_University/B...  "
      ]
     },
     "execution_count": 86,
     "metadata": {},
     "output_type": "execute_result"
    }
   ],
   "source": [
    "\"\"\"Inputs\"\"\"\n",
    "input_dir = 'C:/Users/Michael/Documents/Boston_University/BU16s/pe-64/'\n",
    "\n",
    "r1_fmt = '-r1.fastq.gz'\n",
    "r2_fmt = '-r2.fastq.gz'\n",
    "\n",
    "\n",
    "\"\"\"Gather file paths\"\"\"\n",
    "all_files = glob(os.path.join(input_dir, '*'))\n",
    "all_r1 = [f for f in all_files if f.endswith(r1_fmt)]\n",
    "\n",
    "if r2_fmt:\n",
    "    all_r2 = [f for f in all_files if f.endswith(r2_fmt)]\n",
    "\n",
    "\"\"\"Create manifest\"\"\"\n",
    "# paired = sample-id | forward-absolute-filepath | reverse-absolute-filepath\n",
    "# single = sample-id | absolute-path\n",
    "\n",
    "col_order = ['sample-id']\n",
    "\n",
    "### Get r1\n",
    "r1_col_name = 'forward-absolute-filepath' if r2_fmt else 'absolute-path' \n",
    "col_order.append(r1_col_name)\n",
    "\n",
    "r1_paths = pd.Series(all_r1).rename(col_name)\n",
    "# Get r1 samples\n",
    "r1_samples = r1_paths.apply(lambda x: os.path.basename(x).split(r1_fmt)[0]).rename('sample-id')\n",
    "# Create manifest\n",
    "manifest = pd.concat([r1_paths, r1_samples], 1)\n",
    "\n",
    "### Add r2 if exists\n",
    "if r2_fmt:\n",
    "    r2_col_name = 'reverse-absolute-filepath'\n",
    "    col_order.append(r2_col_name)\n",
    "    r2_paths = pd.Series(all_r2).rename(r2_col_name)\n",
    "    r2_samples = r2_paths.apply(lambda x: os.path.basename(x).split(r2_fmt)[0]).rename('sample-id')\n",
    "    r2_manifest = pd.concat([r2_paths, r2_samples], 1)\n",
    "    # Add to main manifest\n",
    "    manifest = manifest.merge(r2_manifest)\n",
    "\n",
    "manifest[col_order]"
   ]
  }
 ],
 "metadata": {
  "kernelspec": {
   "display_name": "Python 3",
   "language": "python",
   "name": "python3"
  },
  "language_info": {
   "codemirror_mode": {
    "name": "ipython",
    "version": 3
   },
   "file_extension": ".py",
   "mimetype": "text/x-python",
   "name": "python",
   "nbconvert_exporter": "python",
   "pygments_lexer": "ipython3",
   "version": "3.6.6"
  }
 },
 "nbformat": 4,
 "nbformat_minor": 2
}
